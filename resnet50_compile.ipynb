{
 "cells": [
  {
   "cell_type": "code",
   "execution_count": 1,
   "id": "bearing-priest",
   "metadata": {},
   "outputs": [
    {
     "name": "stdout",
     "output_type": "stream",
     "text": [
      "Looking in indexes: https://pypi.org/simple, https://pip.repos.neuron.amazonaws.com\n",
      "Collecting torchvision==0.8.2\n",
      "  Downloading torchvision-0.8.2-cp37-cp37m-manylinux1_x86_64.whl (12.8 MB)\n",
      "\u001b[K     |████████████████████████████████| 12.8 MB 17.4 MB/s eta 0:00:01\n",
      "\u001b[?25hRequirement already satisfied: numpy in /home/ubuntu/work/torch_neuron_env/lib/python3.7/site-packages (from torchvision==0.8.2) (1.18.4)\n",
      "Collecting pillow>=4.1.1\n",
      "  Downloading Pillow-8.1.0-cp37-cp37m-manylinux1_x86_64.whl (2.2 MB)\n",
      "\u001b[K     |████████████████████████████████| 2.2 MB 89.6 MB/s eta 0:00:01\n",
      "\u001b[?25hRequirement already satisfied: torch==1.7.1 in /home/ubuntu/work/torch_neuron_env/lib/python3.7/site-packages (from torchvision==0.8.2) (1.7.1)\n",
      "Requirement already satisfied: typing-extensions in /home/ubuntu/work/torch_neuron_env/lib/python3.7/site-packages (from torch==1.7.1->torchvision==0.8.2) (3.7.4.3)\n",
      "Installing collected packages: pillow, torchvision\n",
      "Successfully installed pillow-8.1.0 torchvision-0.8.2\n"
     ]
    }
   ],
   "source": [
    "!pip install torchvision==0.8.2"
   ]
  },
  {
   "cell_type": "code",
   "execution_count": 2,
   "id": "reverse-lewis",
   "metadata": {},
   "outputs": [
    {
     "name": "stderr",
     "output_type": "stream",
     "text": [
      "Downloading: \"https://download.pytorch.org/models/resnet50-19c8e357.pth\" to /home/ubuntu/.cache/torch/hub/checkpoints/resnet50-19c8e357.pth\n",
      "24.0%IOPub message rate exceeded.\n",
      "The notebook server will temporarily stop sending output\n",
      "to the client in order to avoid crashing it.\n",
      "To change this limit, set the config variable\n",
      "`--NotebookApp.iopub_msg_rate_limit`.\n",
      "\n",
      "Current values:\n",
      "NotebookApp.iopub_msg_rate_limit=1000.0 (msgs/sec)\n",
      "NotebookApp.rate_limit_window=3.0 (secs)\n",
      "\n",
      "67.0%IOPub message rate exceeded.\n",
      "The notebook server will temporarily stop sending output\n",
      "to the client in order to avoid crashing it.\n",
      "To change this limit, set the config variable\n",
      "`--NotebookApp.iopub_msg_rate_limit`.\n",
      "\n",
      "Current values:\n",
      "NotebookApp.iopub_msg_rate_limit=1000.0 (msgs/sec)\n",
      "NotebookApp.rate_limit_window=3.0 (secs)\n",
      "\n",
      "100.0%\n",
      "INFO:Neuron:The following operations are currently supported in torch-neuron for this model:\n",
      "INFO:Neuron:prim::ListConstruct\n",
      "INFO:Neuron:aten::_convolution\n",
      "INFO:Neuron:aten::batch_norm\n",
      "INFO:Neuron:aten::add\n",
      "INFO:Neuron:prim::Constant\n",
      "INFO:Neuron:aten::relu\n",
      "INFO:Neuron:aten::addmm\n",
      "INFO:Neuron:aten::adaptive_avg_pool2d\n",
      "INFO:Neuron:aten::max_pool2d\n",
      "INFO:Neuron:aten::t\n",
      "INFO:Neuron:aten::flatten\n",
      "INFO:Neuron:100.00% of all operations (including primitives) (1698 of 1698) are supported\n",
      "INFO:Neuron:100.00% of arithmetic operations (176 of 176) are supported\n",
      "INFO:Neuron:All operators are compiled by neuron-cc (this does not guarantee that neuron-cc will successfully compile)\n",
      "INFO:Neuron:Number of arithmetic operators (pre-compilation) before = 176, fused = 176, percent fused = 100.0%\n",
      "INFO:Neuron:compiling function _NeuronGraph$1110 with neuron-cc\n",
      "INFO:Neuron:Compiling with command line: '/home/ubuntu/work/torch_neuron_env/bin/neuron-cc compile /tmp/tmp9cd_k25x/graph_def.pb --framework TENSORFLOW --pipeline compile SaveTemps --output /tmp/tmp9cd_k25x/graph_def.neff --io-config {\"inputs\": {\"0:0\": [[1, 3, 224, 224], \"float32\"]}, \"outputs\": [\"Add_122:0\"]} --verbose 35'\n",
      "INFO:Neuron:Number of arithmetic operators (post-compilation) before = 176, compiled = 176, percent compiled = 100.0%\n",
      "INFO:Neuron:The neuron partitioner created 1 sub-graphs\n",
      "INFO:Neuron:Neuron successfully compiled 1 sub-graphs, Total fused subgraphs = 1, Percent of model sub-graphs successfully compiled = 100.0%\n",
      "INFO:Neuron:Compiled these operators (and operator counts) to Neuron:\n",
      "INFO:Neuron: => aten::_convolution: 53\n",
      "INFO:Neuron: => aten::adaptive_avg_pool2d: 1\n",
      "INFO:Neuron: => aten::add: 16\n",
      "INFO:Neuron: => aten::addmm: 1\n",
      "INFO:Neuron: => aten::batch_norm: 53\n",
      "INFO:Neuron: => aten::flatten: 1\n",
      "INFO:Neuron: => aten::max_pool2d: 1\n",
      "INFO:Neuron: => aten::relu: 49\n",
      "INFO:Neuron: => aten::t: 1\n"
     ]
    },
    {
     "name": "stdout",
     "output_type": "stream",
     "text": [
      "Compilation took 88 seconds\n"
     ]
    }
   ],
   "source": [
    "import torch\n",
    "import numpy as np\n",
    "import os\n",
    "import torch_neuron\n",
    "from torchvision import models\n",
    "import logging\n",
    "from datetime import datetime as dt\n",
    "\n",
    "## Enable logging so we can see any important warnings\n",
    "logger = logging.getLogger('Neuron')\n",
    "logger.setLevel(logging.INFO)\n",
    "\n",
    "image = torch.zeros([1, 3, 224, 224], dtype=torch.float32)\n",
    "\n",
    "## Load a pretrained ResNet50 model\n",
    "model = models.resnet50(pretrained=True)\n",
    "\n",
    "## Tell the model we are using it for evaluation (not training)\n",
    "model.eval()\n",
    "\n",
    "## Analyze the model - this will show operator support and operator count\n",
    "torch.neuron.analyze_model(model, example_inputs=[image])\n",
    "\n",
    "## Now compile the model - with logging set to \"info\" we will see\n",
    "## what compiles for Neuron, and if there are any fallbacks\n",
    "## (If using DLAMI v36 or older, please add option \"compiler_args='-O2'\" to the trace command)\n",
    "start = dt.now()\n",
    "model_neuron = torch.neuron.trace(model, example_inputs=[image])\n",
    "print(f'Compilation took {(dt.now() - start).seconds} seconds')\n",
    "\n",
    "## Export to saved model\n",
    "model_neuron.save(\"compiled/resnet50_neuron.pt\")"
   ]
  },
  {
   "cell_type": "code",
   "execution_count": 10,
   "id": "worthy-swiss",
   "metadata": {},
   "outputs": [
    {
     "name": "stdout",
     "output_type": "stream",
     "text": [
      "total 40388\r\n",
      "drwxrwxr-x 2 ubuntu ubuntu     4096 Jan 28 17:20 .\r\n",
      "drwxrwxr-x 8 ubuntu ubuntu     4096 Jan 28 17:20 ..\r\n",
      "-rw-rw-r-- 1 ubuntu ubuntu 41345679 Jan 28 17:11 resnet50_neuron.pt\r\n"
     ]
    }
   ],
   "source": [
    "!ls -la compiled"
   ]
  }
 ],
 "metadata": {
  "kernelspec": {
   "display_name": "torch_neuron_env",
   "language": "python",
   "name": "torch_neuron_env"
  },
  "language_info": {
   "codemirror_mode": {
    "name": "ipython",
    "version": 3
   },
   "file_extension": ".py",
   "mimetype": "text/x-python",
   "name": "python",
   "nbconvert_exporter": "python",
   "pygments_lexer": "ipython3",
   "version": "3.7.6"
  }
 },
 "nbformat": 4,
 "nbformat_minor": 5
}
