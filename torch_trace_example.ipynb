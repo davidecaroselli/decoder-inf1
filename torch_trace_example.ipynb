{
 "cells": [
  {
   "cell_type": "code",
   "execution_count": 1,
   "id": "latin-median",
   "metadata": {},
   "outputs": [],
   "source": [
    "import torch\n",
    "import torch.nn as nn"
   ]
  },
  {
   "cell_type": "code",
   "execution_count": 2,
   "id": "noticed-hearing",
   "metadata": {},
   "outputs": [],
   "source": [
    "class Net(nn.Module):\n",
    "    def __init__(self):\n",
    "        super(Net, self).__init__()\n",
    "        self.conv = nn.Conv2d(1, 1, 3)\n",
    "\n",
    "    def forward(self, x):\n",
    "        return self.conv(x)\n",
    "\n",
    "n = Net()"
   ]
  },
  {
   "cell_type": "code",
   "execution_count": 8,
   "id": "american-nashville",
   "metadata": {},
   "outputs": [
    {
     "name": "stdout",
     "output_type": "stream",
     "text": [
      "Inputs:\n",
      "- example: tensor([[[[0.9392, 0.3174, 0.1875],\n",
      "          [0.8379, 0.8777, 0.5360],\n",
      "          [0.3717, 0.4127, 0.0932]]]])\n",
      "- test: tensor([[[[0.3226, 0.4982, 0.4310],\n",
      "          [0.5811, 0.6587, 0.5598],\n",
      "          [0.8582, 0.1987, 0.3722]]]])\n"
     ]
    }
   ],
   "source": [
    "example_input = torch.rand(1, 1, 3, 3)\n",
    "test_input = torch.rand(1, 1, 3, 3)\n",
    "print('Inputs:')\n",
    "print(f'- example: {example_input}')\n",
    "print(f'- test: {test_input}')"
   ]
  },
  {
   "cell_type": "code",
   "execution_count": 9,
   "id": "rural-pastor",
   "metadata": {},
   "outputs": [
    {
     "name": "stdout",
     "output_type": "stream",
     "text": [
      "Original model outputs:\n",
      "- example: tensor([[[[0.0911]]]], grad_fn=<ThnnConv2DBackward>)\n",
      "- test: tensor([[[[0.0078]]]], grad_fn=<ThnnConv2DBackward>)\n"
     ]
    }
   ],
   "source": [
    "print('Original model outputs:')\n",
    "print(f'- example: {n.forward(example_input)}')\n",
    "print(f'- test: {n.forward(test_input)}')"
   ]
  },
  {
   "cell_type": "code",
   "execution_count": 10,
   "id": "noted-canberra",
   "metadata": {},
   "outputs": [],
   "source": [
    "# Trace a specific method and construct `ScriptModule` with\n",
    "# a single `forward` method\n",
    "#module = torch.jit.trace(n.forward, example_forward_input)\n",
    "\n",
    "# Trace a module (implicitly traces `forward`) and construct a\n",
    "# `ScriptModule` with a single `forward` method\n",
    "traced = torch.jit.trace(n, example_input)"
   ]
  },
  {
   "cell_type": "code",
   "execution_count": 11,
   "id": "prime-entrance",
   "metadata": {},
   "outputs": [
    {
     "name": "stdout",
     "output_type": "stream",
     "text": [
      "Traced model outputs:\n",
      "- example: tensor([[[[0.0911]]]], grad_fn=<ThnnConv2DBackward>)\n",
      "- test: tensor([[[[0.0078]]]], grad_fn=<ThnnConv2DBackward>)\n"
     ]
    }
   ],
   "source": [
    "print('Traced model outputs:')\n",
    "print(f'- example: {traced.forward(example_input)}')\n",
    "print(f'- test: {traced.forward(test_input)}')"
   ]
  },
  {
   "cell_type": "code",
   "execution_count": null,
   "id": "blessed-morning",
   "metadata": {},
   "outputs": [],
   "source": []
  }
 ],
 "metadata": {
  "kernelspec": {
   "display_name": "torch_neuron_env",
   "language": "python",
   "name": "torch_neuron_env"
  },
  "language_info": {
   "codemirror_mode": {
    "name": "ipython",
    "version": 3
   },
   "file_extension": ".py",
   "mimetype": "text/x-python",
   "name": "python",
   "nbconvert_exporter": "python",
   "pygments_lexer": "ipython3",
   "version": "3.7.6"
  }
 },
 "nbformat": 4,
 "nbformat_minor": 5
}
